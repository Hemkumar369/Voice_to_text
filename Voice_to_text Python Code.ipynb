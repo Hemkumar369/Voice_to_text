{
 "cells": [
  {
   "cell_type": "code",
   "execution_count": 1,
   "id": "9bf00146",
   "metadata": {},
   "outputs": [],
   "source": [
    "# Importing necessary libraries"
   ]
  },
  {
   "cell_type": "code",
   "execution_count": 2,
   "id": "7fe185b7",
   "metadata": {},
   "outputs": [],
   "source": [
    "import speech_recognition as sr"
   ]
  },
  {
   "cell_type": "code",
   "execution_count": 3,
   "id": "141f6f89",
   "metadata": {},
   "outputs": [
    {
     "name": "stdout",
     "output_type": "stream",
     "text": [
      "Requirement already satisfied: PyAudio in c:\\users\\hem kumar reddy\\anaconda3\\lib\\site-packages (0.2.13)\n"
     ]
    }
   ],
   "source": [
    "#Installing PyAudio \n",
    "\n",
    "! pip install PyAudio"
   ]
  },
  {
   "cell_type": "code",
   "execution_count": 4,
   "id": "6232ae14",
   "metadata": {},
   "outputs": [
    {
     "name": "stdout",
     "output_type": "stream",
     "text": [
      "Listening...\n",
      "Text Output:\n",
      "Hi how are you doing today\n"
     ]
    }
   ],
   "source": [
    "def listen_to_voice():\n",
    "    # Initialize the recognizer\n",
    "    recognizer = sr.Recognizer()\n",
    "    \n",
    "# It interact with microphone for audio input within that block\n",
    "# Here, I am using Google Web Speech Recognition to convert the audio into the text\n",
    "# The fuction prints 'Listening', that shows it is ready to capture the audio from \n",
    "    with sr.Microphone() as source:\n",
    "        print(\"Listening...\")\n",
    "# This will minimize the environmental noise on the audio recognition        \n",
    "        recognizer.adjust_for_ambient_noise(source, duration=1)  # Adjust for background noise\n",
    "\n",
    "        try:\n",
    "            audio = recognizer.listen(source, timeout=200)  # Listen for up to 200 seconds\n",
    "\n",
    "            # Use Google Web Speech Recognition to convert audio to text\n",
    "            text_output = recognizer.recognize_google(audio)\n",
    "            return text_output\n",
    "\n",
    "        except sr.WaitTimeoutError:\n",
    "            print(\"Timed out. Please try again.\")\n",
    "        except sr.UnknownValueError:\n",
    "            print(\"Could not understand audio. Please try again.\")\n",
    "        except sr.RequestError as e:\n",
    "            print(f\"Error occurred during the API request: {e}\")\n",
    "        except Exception as e:\n",
    "            print(f\"Error occurred: {e}\")\n",
    "            \n",
    "# The listen_to_voice function is called and \n",
    "# recognized text is saved as text_output\n",
    "\n",
    "if __name__ == \"__main__\":\n",
    "    text_output = listen_to_voice()\n",
    "    if text_output:\n",
    "# The recognized text will be printed after text_output\n",
    "        print(\"Text Output:\")\n",
    "        print(text_output)"
   ]
  },
  {
   "cell_type": "code",
   "execution_count": null,
   "id": "f179e8d7",
   "metadata": {},
   "outputs": [],
   "source": []
  }
 ],
 "metadata": {
  "kernelspec": {
   "display_name": "Python 3",
   "language": "python",
   "name": "python3"
  },
  "language_info": {
   "codemirror_mode": {
    "name": "ipython",
    "version": 3
   },
   "file_extension": ".py",
   "mimetype": "text/x-python",
   "name": "python",
   "nbconvert_exporter": "python",
   "pygments_lexer": "ipython3",
   "version": "3.8.8"
  }
 },
 "nbformat": 4,
 "nbformat_minor": 5
}
